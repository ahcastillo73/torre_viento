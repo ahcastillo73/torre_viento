{
 "cells": [
  {
   "cell_type": "markdown",
   "id": "e6a248dc-8039-4e6f-b330-f1684dc4c821",
   "metadata": {},
   "source": [
    "## CALCULO DE FUERZAS DE VIENTO SOBRE LA TORRE"
   ]
  },
  {
   "cell_type": "markdown",
   "id": "29f49464-0b2f-40a3-9066-34e075990295",
   "metadata": {},
   "source": [
    "### Datos de inicio"
   ]
  },
  {
   "cell_type": "code",
   "execution_count": 1,
   "id": "5b9bcf79-38b6-4256-8c81-f509612bc0ea",
   "metadata": {},
   "outputs": [],
   "source": [
    "wind_speed_mph = 100   # Velocidad básica del viento en mph\n",
    "V = wind_speed_mph * 0.44704       # Velocidad básica del viento en m/s\n",
    "Kzt = 1.0              # Factor topográfico\n",
    "Kd = 0.85              # Factor de direccionalidad\n",
    "I = 1.0               # Factor de importancia\n",
    "Gh = 0.85               # Factor de ráfaga 0.85 para estructuras de menos de 137 metros de altura.\n",
    "Cf = 3.4               # Coeficiente de fuerza"
   ]
  },
  {
   "cell_type": "code",
   "execution_count": 2,
   "id": "3e51be76-65e9-44b6-a752-b85a7c9a9dd0",
   "metadata": {},
   "outputs": [],
   "source": [
    "# factores para el calculo de Kz, zg en metros\n",
    "zg = 274\n",
    "alfa = 9.50\n",
    "kzmin = 0.85"
   ]
  },
  {
   "cell_type": "markdown",
   "id": "383f2bc4-f87b-4cb9-9b55-e8cc70c0ea91",
   "metadata": {},
   "source": [
    "### Geometria de las secciones de la torre"
   ]
  },
  {
   "cell_type": "code",
   "execution_count": 3,
   "id": "70bde480-1772-4c80-8f7b-ae2f8bc34701",
   "metadata": {},
   "outputs": [
    {
     "ename": "FileNotFoundError",
     "evalue": "[Errno 2] No such file or directory: 'C:\\\\Users\\\\ahcas\\\\Documents\\\\Notebook\\\\TIA-222-H\\\\TORRE_45_AS.xlsx'",
     "output_type": "error",
     "traceback": [
      "\u001b[1;31m---------------------------------------------------------------------------\u001b[0m",
      "\u001b[1;31mFileNotFoundError\u001b[0m                         Traceback (most recent call last)",
      "Cell \u001b[1;32mIn[3], line 2\u001b[0m\n\u001b[0;32m      1\u001b[0m \u001b[38;5;28;01mimport\u001b[39;00m \u001b[38;5;21;01mpandas\u001b[39;00m \u001b[38;5;28;01mas\u001b[39;00m \u001b[38;5;21;01mpd\u001b[39;00m\n\u001b[1;32m----> 2\u001b[0m secciones \u001b[38;5;241m=\u001b[39m \u001b[43mpd\u001b[49m\u001b[38;5;241;43m.\u001b[39;49m\u001b[43mExcelFile\u001b[49m\u001b[43m(\u001b[49m\u001b[38;5;124;43mr\u001b[39;49m\u001b[38;5;124;43m\"\u001b[39;49m\u001b[38;5;124;43mC:\u001b[39;49m\u001b[38;5;124;43m\\\u001b[39;49m\u001b[38;5;124;43mUsers\u001b[39;49m\u001b[38;5;124;43m\\\u001b[39;49m\u001b[38;5;124;43mahcas\u001b[39;49m\u001b[38;5;124;43m\\\u001b[39;49m\u001b[38;5;124;43mDocuments\u001b[39;49m\u001b[38;5;124;43m\\\u001b[39;49m\u001b[38;5;124;43mNotebook\u001b[39;49m\u001b[38;5;124;43m\\\u001b[39;49m\u001b[38;5;124;43mTIA-222-H\u001b[39;49m\u001b[38;5;124;43m\\\u001b[39;49m\u001b[38;5;124;43mTORRE_45_AS.xlsx\u001b[39;49m\u001b[38;5;124;43m\"\u001b[39;49m\u001b[43m)\u001b[49m\n",
      "File \u001b[1;32m~\\AppData\\Local\\Programs\\Python\\Python310\\lib\\site-packages\\pandas\\io\\excel\\_base.py:1550\u001b[0m, in \u001b[0;36mExcelFile.__init__\u001b[1;34m(self, path_or_buffer, engine, storage_options, engine_kwargs)\u001b[0m\n\u001b[0;32m   1548\u001b[0m     ext \u001b[38;5;241m=\u001b[39m \u001b[38;5;124m\"\u001b[39m\u001b[38;5;124mxls\u001b[39m\u001b[38;5;124m\"\u001b[39m\n\u001b[0;32m   1549\u001b[0m \u001b[38;5;28;01melse\u001b[39;00m:\n\u001b[1;32m-> 1550\u001b[0m     ext \u001b[38;5;241m=\u001b[39m \u001b[43minspect_excel_format\u001b[49m\u001b[43m(\u001b[49m\n\u001b[0;32m   1551\u001b[0m \u001b[43m        \u001b[49m\u001b[43mcontent_or_path\u001b[49m\u001b[38;5;241;43m=\u001b[39;49m\u001b[43mpath_or_buffer\u001b[49m\u001b[43m,\u001b[49m\u001b[43m \u001b[49m\u001b[43mstorage_options\u001b[49m\u001b[38;5;241;43m=\u001b[39;49m\u001b[43mstorage_options\u001b[49m\n\u001b[0;32m   1552\u001b[0m \u001b[43m    \u001b[49m\u001b[43m)\u001b[49m\n\u001b[0;32m   1553\u001b[0m     \u001b[38;5;28;01mif\u001b[39;00m ext \u001b[38;5;129;01mis\u001b[39;00m \u001b[38;5;28;01mNone\u001b[39;00m:\n\u001b[0;32m   1554\u001b[0m         \u001b[38;5;28;01mraise\u001b[39;00m \u001b[38;5;167;01mValueError\u001b[39;00m(\n\u001b[0;32m   1555\u001b[0m             \u001b[38;5;124m\"\u001b[39m\u001b[38;5;124mExcel file format cannot be determined, you must specify \u001b[39m\u001b[38;5;124m\"\u001b[39m\n\u001b[0;32m   1556\u001b[0m             \u001b[38;5;124m\"\u001b[39m\u001b[38;5;124man engine manually.\u001b[39m\u001b[38;5;124m\"\u001b[39m\n\u001b[0;32m   1557\u001b[0m         )\n",
      "File \u001b[1;32m~\\AppData\\Local\\Programs\\Python\\Python310\\lib\\site-packages\\pandas\\io\\excel\\_base.py:1402\u001b[0m, in \u001b[0;36minspect_excel_format\u001b[1;34m(content_or_path, storage_options)\u001b[0m\n\u001b[0;32m   1399\u001b[0m \u001b[38;5;28;01mif\u001b[39;00m \u001b[38;5;28misinstance\u001b[39m(content_or_path, \u001b[38;5;28mbytes\u001b[39m):\n\u001b[0;32m   1400\u001b[0m     content_or_path \u001b[38;5;241m=\u001b[39m BytesIO(content_or_path)\n\u001b[1;32m-> 1402\u001b[0m \u001b[38;5;28;01mwith\u001b[39;00m \u001b[43mget_handle\u001b[49m\u001b[43m(\u001b[49m\n\u001b[0;32m   1403\u001b[0m \u001b[43m    \u001b[49m\u001b[43mcontent_or_path\u001b[49m\u001b[43m,\u001b[49m\u001b[43m \u001b[49m\u001b[38;5;124;43m\"\u001b[39;49m\u001b[38;5;124;43mrb\u001b[39;49m\u001b[38;5;124;43m\"\u001b[39;49m\u001b[43m,\u001b[49m\u001b[43m \u001b[49m\u001b[43mstorage_options\u001b[49m\u001b[38;5;241;43m=\u001b[39;49m\u001b[43mstorage_options\u001b[49m\u001b[43m,\u001b[49m\u001b[43m \u001b[49m\u001b[43mis_text\u001b[49m\u001b[38;5;241;43m=\u001b[39;49m\u001b[38;5;28;43;01mFalse\u001b[39;49;00m\n\u001b[0;32m   1404\u001b[0m \u001b[43m\u001b[49m\u001b[43m)\u001b[49m \u001b[38;5;28;01mas\u001b[39;00m handle:\n\u001b[0;32m   1405\u001b[0m     stream \u001b[38;5;241m=\u001b[39m handle\u001b[38;5;241m.\u001b[39mhandle\n\u001b[0;32m   1406\u001b[0m     stream\u001b[38;5;241m.\u001b[39mseek(\u001b[38;5;241m0\u001b[39m)\n",
      "File \u001b[1;32m~\\AppData\\Local\\Programs\\Python\\Python310\\lib\\site-packages\\pandas\\io\\common.py:882\u001b[0m, in \u001b[0;36mget_handle\u001b[1;34m(path_or_buf, mode, encoding, compression, memory_map, is_text, errors, storage_options)\u001b[0m\n\u001b[0;32m    873\u001b[0m         handle \u001b[38;5;241m=\u001b[39m \u001b[38;5;28mopen\u001b[39m(\n\u001b[0;32m    874\u001b[0m             handle,\n\u001b[0;32m    875\u001b[0m             ioargs\u001b[38;5;241m.\u001b[39mmode,\n\u001b[1;32m   (...)\u001b[0m\n\u001b[0;32m    878\u001b[0m             newline\u001b[38;5;241m=\u001b[39m\u001b[38;5;124m\"\u001b[39m\u001b[38;5;124m\"\u001b[39m,\n\u001b[0;32m    879\u001b[0m         )\n\u001b[0;32m    880\u001b[0m     \u001b[38;5;28;01melse\u001b[39;00m:\n\u001b[0;32m    881\u001b[0m         \u001b[38;5;66;03m# Binary mode\u001b[39;00m\n\u001b[1;32m--> 882\u001b[0m         handle \u001b[38;5;241m=\u001b[39m \u001b[38;5;28;43mopen\u001b[39;49m\u001b[43m(\u001b[49m\u001b[43mhandle\u001b[49m\u001b[43m,\u001b[49m\u001b[43m \u001b[49m\u001b[43mioargs\u001b[49m\u001b[38;5;241;43m.\u001b[39;49m\u001b[43mmode\u001b[49m\u001b[43m)\u001b[49m\n\u001b[0;32m    883\u001b[0m     handles\u001b[38;5;241m.\u001b[39mappend(handle)\n\u001b[0;32m    885\u001b[0m \u001b[38;5;66;03m# Convert BytesIO or file objects passed with an encoding\u001b[39;00m\n",
      "\u001b[1;31mFileNotFoundError\u001b[0m: [Errno 2] No such file or directory: 'C:\\\\Users\\\\ahcas\\\\Documents\\\\Notebook\\\\TIA-222-H\\\\TORRE_45_AS.xlsx'"
     ]
    }
   ],
   "source": [
    "import pandas as pd\n",
    "secciones = pd.ExcelFile(r\"C:\\Users\\ahcas\\Documents\\Notebook\\TIA-222-H\\TORRE_45_AS.xlsx\")"
   ]
  },
  {
   "cell_type": "code",
   "execution_count": null,
   "id": "0206f221-d80a-4f16-8327-18abdb7c9645",
   "metadata": {},
   "outputs": [],
   "source": [
    "df_secciones = secciones.parse(\"secciones\")\n",
    "df_secciones.style.hide(axis=\"index\")"
   ]
  },
  {
   "cell_type": "markdown",
   "id": "4174f7b0-4bae-4ea0-afe7-7c1bc842cb99",
   "metadata": {},
   "source": [
    "### Calculo de la presion equivalente"
   ]
  },
  {
   "cell_type": "code",
   "execution_count": null,
   "id": "85a216e3-f968-4172-9ce5-4fabac24c019",
   "metadata": {},
   "outputs": [],
   "source": [
    "# Funcion para calcular Kz\n",
    "zg = float(zg)\n",
    "alfa = float(alfa)\n",
    "def calcular_kz(z,zg,alfa,kzmin):\n",
    "    kzaux = 2.01 * ( z / zg )**(2/alfa)\n",
    "    if kzaux > 2.01:\n",
    "        kz = 2.01\n",
    "    elif kzaux < kzmin:\n",
    "        kz = kzmin\n",
    "    else:\n",
    "        kz = kzaux\n",
    "    return kz"
   ]
  },
  {
   "cell_type": "code",
   "execution_count": null,
   "id": "ad1e9867-51bc-4f15-bbf4-115f7e039743",
   "metadata": {},
   "outputs": [],
   "source": [
    "# Función para calcular qz m/s\n",
    "def calcular_qz_mps(Kz, Kzt, Kd, V, I):\n",
    "    return 0.613 * Kz * Kzt * Kd * (V**2) * I"
   ]
  },
  {
   "cell_type": "code",
   "execution_count": null,
   "id": "88de57da-66d8-4d11-94c2-0b0cd4339baf",
   "metadata": {},
   "outputs": [],
   "source": [
    "pres = {}\n",
    "pres['Seccion'] = df_secciones['Seccion']\n",
    "pres['Z (m)'] = df_secciones['Alt. Med. (m)']"
   ]
  },
  {
   "cell_type": "code",
   "execution_count": null,
   "id": "a96ed2d4-4c1e-4a0a-946d-14d9c5cc531a",
   "metadata": {},
   "outputs": [],
   "source": [
    "df_pres = pd.DataFrame(pres)\n",
    "# Aplicar la función a la columna \"Alt. Inf (m)\"\n",
    "df_pres[\"Kz\"] = df_secciones[\"Alt. Med. (m)\"].apply(lambda z: calcular_kz(z, zg, alfa, kzmin))"
   ]
  },
  {
   "cell_type": "code",
   "execution_count": null,
   "id": "838f340b-803d-4e15-85fe-20da195dbead",
   "metadata": {},
   "outputs": [],
   "source": [
    "df_pres[\"qz (N/m2)\"] = df_pres[\"Kz\"].apply(lambda kz: calcular_qz_mps(kz, Kzt, Kd, V, I))"
   ]
  },
  {
   "cell_type": "code",
   "execution_count": null,
   "id": "16966d5d-abd1-4c69-9688-2d367850cfdb",
   "metadata": {},
   "outputs": [],
   "source": [
    "df_pres.style.hide(axis=\"index\")"
   ]
  },
  {
   "cell_type": "markdown",
   "id": "83954b45-5aec-4b2b-8a19-057986010260",
   "metadata": {},
   "source": [
    "### Factores de direccion del viento"
   ]
  },
  {
   "cell_type": "code",
   "execution_count": null,
   "id": "94670718-b97f-4776-bb26-472cc86ef406",
   "metadata": {},
   "outputs": [],
   "source": [
    "# Componentes Planos\n",
    "df_00 = 1\n",
    "df_60 = 0.80\n",
    "df_90 = 0.85\n",
    "\n",
    "# Componentes Circulares\n",
    "dr_00 = 1\n",
    "dr_60 = 1\n",
    "dr_90 = 1"
   ]
  },
  {
   "cell_type": "markdown",
   "id": "b10ccb3d-0a5f-40d0-b65a-d47703d1f5bb",
   "metadata": {},
   "source": [
    "### Calculo de areas de los elementos"
   ]
  },
  {
   "cell_type": "code",
   "execution_count": null,
   "id": "83d2daaf-bccf-43c6-b7f7-097b22375b1e",
   "metadata": {},
   "outputs": [],
   "source": [
    "areacalc = {}\n",
    "areacalc['Seccion'] = df_secciones['Seccion']\n",
    "areacalc['Areas Planas (m2)'] = df_secciones['Long. Diag. (m)']*df_secciones['Ancho Diag. (m)'] + df_secciones['Long. Hor. (m)']*df_secciones['Ancho Hor. (m)']\n",
    "areacalc['Areas Circulares (m2)'] = df_secciones['Long. Pierna (m)']*df_secciones['Ancho Pierna (m)']\n",
    "areacalc['Area Bruta (m2)'] = df_secciones['Altura Secc. (m)']* ( df_secciones['Ancho Inf. (m)'] + df_secciones['Ancho Sup. (m)'] )*0.5\n",
    "areacalc['Relacion de Solidez'] = (areacalc['Areas Planas (m2)'] + areacalc['Areas Circulares (m2)']) / areacalc['Area Bruta (m2)']\n",
    "areacalc['Coef. de Fuerza'] = 3.4 * areacalc['Relacion de Solidez']**2 - 4.7 * areacalc['Relacion de Solidez'] + 3.4\n",
    "areacalc['Red. Factor'] = 0.57 - 0.14 * areacalc['Relacion de Solidez'] + 0.86 * areacalc['Relacion de Solidez']**2 - 0.24 * areacalc['Relacion de Solidez']**3\n",
    "areacalc['Ar*Rr'] = areacalc['Areas Circulares (m2)'] * areacalc['Red. Factor']"
   ]
  },
  {
   "cell_type": "code",
   "execution_count": null,
   "id": "c096d4fc-f89b-4279-9656-039404ebdc38",
   "metadata": {},
   "outputs": [],
   "source": [
    "df_areacalc = pd.DataFrame(areacalc)"
   ]
  },
  {
   "cell_type": "code",
   "execution_count": null,
   "id": "11db791c-4c4b-49a8-bb75-eed1e7d78317",
   "metadata": {},
   "outputs": [],
   "source": [
    "df_areacalc.style.hide(axis=\"index\")"
   ]
  },
  {
   "cell_type": "markdown",
   "id": "f8af807e-9a46-4f12-8368-1fe3aa4418bf",
   "metadata": {},
   "source": [
    "### Areas proyectadas efectivas"
   ]
  },
  {
   "cell_type": "code",
   "execution_count": null,
   "id": "86e4a71a-4c8f-4731-9d8c-884fad6da24c",
   "metadata": {},
   "outputs": [],
   "source": [
    "area_proy = {}\n",
    "area_proy['Seccion'] = df_secciones['Seccion']"
   ]
  },
  {
   "cell_type": "code",
   "execution_count": null,
   "id": "2b03396a-a0f9-4085-9063-1b206940a1b5",
   "metadata": {},
   "outputs": [],
   "source": [
    "area_proy['(EPA)s_00 (m2)'] = areacalc['Coef. de Fuerza'] * ( df_00 * areacalc['Areas Planas (m2)'] + dr_00 * areacalc['Ar*Rr'])\n",
    "area_proy['(EPA)s_60 (m2)'] = areacalc['Coef. de Fuerza'] * ( df_60 * areacalc['Areas Planas (m2)'] + dr_60 * areacalc['Ar*Rr'])\n",
    "area_proy['(EPA)s_90 (m2)'] = areacalc['Coef. de Fuerza'] * ( df_90 * areacalc['Areas Planas (m2)'] + dr_90 * areacalc['Ar*Rr'])"
   ]
  },
  {
   "cell_type": "code",
   "execution_count": null,
   "id": "d6958c71-cc7d-4435-9c24-beccadda053d",
   "metadata": {},
   "outputs": [],
   "source": [
    "df_area_proy = pd.DataFrame(area_proy)"
   ]
  },
  {
   "cell_type": "code",
   "execution_count": null,
   "id": "a152f8e9-6a6f-48d1-9592-a46f11881415",
   "metadata": {},
   "outputs": [],
   "source": [
    "df_area_proy.style.hide(axis=\"index\")"
   ]
  },
  {
   "cell_type": "markdown",
   "id": "42612561-248f-4e54-9de0-2e93e689608f",
   "metadata": {},
   "source": [
    "### Calculo de las fuerzas de viento"
   ]
  },
  {
   "cell_type": "code",
   "execution_count": null,
   "id": "83afd418-969c-478c-86fb-899a3b90e619",
   "metadata": {},
   "outputs": [],
   "source": [
    "fuerza_torre = {}\n",
    "fuerza_torre['Seccion'] = df_secciones['Seccion']"
   ]
  },
  {
   "cell_type": "code",
   "execution_count": null,
   "id": "dac33eea-a212-4bb1-8e6a-dafcbac98e7e",
   "metadata": {},
   "outputs": [],
   "source": [
    "fuerza_torre['FST_00 (N)'] = df_pres['qz (N/m2)'] * Gh * df_area_proy['(EPA)s_00 (m2)']\n",
    "fuerza_torre['FST_60 (N)'] = df_pres['qz (N/m2)'] * Gh * df_area_proy['(EPA)s_60 (m2)']\n",
    "fuerza_torre['FST_90 (N)'] = df_pres['qz (N/m2)'] * Gh * df_area_proy['(EPA)s_90 (m2)']"
   ]
  },
  {
   "cell_type": "code",
   "execution_count": null,
   "id": "70441968-9fd4-465b-908c-f282269cb479",
   "metadata": {},
   "outputs": [],
   "source": [
    "df_fuerza_torre = pd.DataFrame(fuerza_torre)"
   ]
  },
  {
   "cell_type": "code",
   "execution_count": null,
   "id": "fde5604f-c725-46cd-a9bd-c59ac6765149",
   "metadata": {},
   "outputs": [],
   "source": [
    "df_fuerza_torre.style.hide(axis=\"index\")"
   ]
  },
  {
   "cell_type": "code",
   "execution_count": null,
   "id": "b8408c57-2bc6-4c18-aa17-be2bc1d136e0",
   "metadata": {},
   "outputs": [],
   "source": []
  }
 ],
 "metadata": {
  "kernelspec": {
   "display_name": "Python 3 (ipykernel)",
   "language": "python",
   "name": "python3"
  },
  "language_info": {
   "codemirror_mode": {
    "name": "ipython",
    "version": 3
   },
   "file_extension": ".py",
   "mimetype": "text/x-python",
   "name": "python",
   "nbconvert_exporter": "python",
   "pygments_lexer": "ipython3",
   "version": "3.10.6"
  }
 },
 "nbformat": 4,
 "nbformat_minor": 5
}
